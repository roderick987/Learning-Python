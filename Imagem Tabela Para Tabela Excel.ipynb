{
 "cells": [
  {
   "cell_type": "code",
   "execution_count": 114,
   "metadata": {},
   "outputs": [],
   "source": [
    "import pytesseract\n",
    "import pandas as pd\n",
    "from PIL import Image\n",
    "import re"
   ]
  },
  {
   "cell_type": "code",
   "execution_count": 113,
   "metadata": {},
   "outputs": [
    {
     "name": "stderr",
     "output_type": "stream",
     "text": [
      "WARNING: Ignoring invalid distribution -umpy (c:\\users\\roderick\\anaconda3\\lib\\site-packages)\n",
      "WARNING: Ignoring invalid distribution -umpy (c:\\users\\roderick\\anaconda3\\lib\\site-packages)\n",
      "ERROR: Could not find a version that satisfies the requirement re (from versions: none)\n",
      "ERROR: No matching distribution found for re\n",
      "WARNING: Ignoring invalid distribution -umpy (c:\\users\\roderick\\anaconda3\\lib\\site-packages)\n",
      "WARNING: Ignoring invalid distribution -umpy (c:\\users\\roderick\\anaconda3\\lib\\site-packages)\n"
     ]
    }
   ],
   "source": [
    "!pip install re"
   ]
  },
  {
   "cell_type": "code",
   "execution_count": 12,
   "metadata": {},
   "outputs": [],
   "source": [
    "pytesseract.pytesseract.tesseract_cmd = r'C:\\Program Files\\Tesseract-OCR\\tesseract.exe'"
   ]
  },
  {
   "cell_type": "code",
   "execution_count": 538,
   "metadata": {},
   "outputs": [],
   "source": [
    "text = pytesseract.image_to_string(Image.open('uotabel2.jpg'), lang='eng')"
   ]
  },
  {
   "cell_type": "code",
   "execution_count": 539,
   "metadata": {},
   "outputs": [
    {
     "data": {
      "text/plain": [
       "'Party Member Gold Earned\\n\\n@® Bastoz 1.616.941\\n@® Ferumnbras 696,069\\n> Loko Da Silva 391375\\n® swvia 174.326\\nRolderick 798,375\\nTroni 163.503\\nVB 47.694\\nbra 218,31\\n\\n® Bele Belinha 373.454\\n'"
      ]
     },
     "execution_count": 539,
     "metadata": {},
     "output_type": "execute_result"
    }
   ],
   "source": [
    "text"
   ]
  },
  {
   "cell_type": "code",
   "execution_count": 540,
   "metadata": {},
   "outputs": [],
   "source": [
    "cleaned_string = text\n",
    "cleaned_string = cleaned_string.replace(\"Party\",\"\")\n",
    "cleaned_string = cleaned_string.replace(\"Member\",\"\")\n",
    "cleaned_string = cleaned_string.replace(\"Gold\",\"\")\n",
    "cleaned_string = cleaned_string.replace(\"Earned\",\"\")"
   ]
  },
  {
   "cell_type": "code",
   "execution_count": 541,
   "metadata": {},
   "outputs": [
    {
     "data": {
      "text/plain": [
       "'   \\n\\n@® Bastoz 1.616.941\\n@® Ferumnbras 696,069\\n> Loko Da Silva 391375\\n® swvia 174.326\\nRolderick 798,375\\nTroni 163.503\\nVB 47.694\\nbra 218,31\\n\\n® Bele Belinha 373.454\\n'"
      ]
     },
     "execution_count": 541,
     "metadata": {},
     "output_type": "execute_result"
    }
   ],
   "source": [
    "cleaned_string"
   ]
  },
  {
   "cell_type": "code",
   "execution_count": 542,
   "metadata": {},
   "outputs": [],
   "source": [
    "cleaned_string = cleaned_string.replace(\"@\", \"\")\n",
    "cleaned_string = cleaned_string.replace(\"®\",\"\")\n",
    "cleaned_string = cleaned_string.replace(\"\\n\\n\",\"\\n\")\n",
    "cleaned_string = cleaned_string.replace(\">\",\"\")\n",
    "cleaned_string = cleaned_string.strip()"
   ]
  },
  {
   "cell_type": "code",
   "execution_count": 545,
   "metadata": {},
   "outputs": [
    {
     "data": {
      "text/plain": [
       "'Bastoz\\n1.616.941\\n Ferumnbras\\n696,069\\n Loko Da Silva\\n391375\\n swvia\\n174.326\\nRolderick\\n798,375\\nTroni\\n163.503\\nVB\\n47.694\\nbra\\n218,31\\n Bele Belinha\\n373.454'"
      ]
     },
     "execution_count": 545,
     "metadata": {},
     "output_type": "execute_result"
    }
   ],
   "source": [
    "new_string = re.sub(r'(?<=\\D)\\s+(?=\\d)', '\\n', cleaned_string)\n",
    "new_string.strip()"
   ]
  },
  {
   "cell_type": "code",
   "execution_count": 546,
   "metadata": {},
   "outputs": [
    {
     "name": "stdout",
     "output_type": "stream",
     "text": [
      "Bastoz\n",
      "1.616.941\n",
      " Ferumnbras\n",
      "696,069\n",
      " Loko Da Silva\n",
      "391375\n",
      " swvia\n",
      "174.326\n",
      "Rolderick\n",
      "798,375\n",
      "Troni\n",
      "163.503\n",
      "VB\n",
      "47.694\n",
      "bra\n",
      "218,31\n",
      " Bele Belinha\n",
      "373.454\n"
     ]
    }
   ],
   "source": [
    "print(new_string)"
   ]
  },
  {
   "cell_type": "code",
   "execution_count": 547,
   "metadata": {},
   "outputs": [],
   "source": [
    "lines = new_string.split(\"\\n\")"
   ]
  },
  {
   "cell_type": "code",
   "execution_count": 548,
   "metadata": {},
   "outputs": [],
   "source": [
    "lines = [x.strip() for x in lines]"
   ]
  },
  {
   "cell_type": "code",
   "execution_count": 549,
   "metadata": {},
   "outputs": [
    {
     "data": {
      "text/plain": [
       "['Bastoz',\n",
       " '1.616.941',\n",
       " 'Ferumnbras',\n",
       " '696,069',\n",
       " 'Loko Da Silva',\n",
       " '391375',\n",
       " 'swvia',\n",
       " '174.326',\n",
       " 'Rolderick',\n",
       " '798,375',\n",
       " 'Troni',\n",
       " '163.503',\n",
       " 'VB',\n",
       " '47.694',\n",
       " 'bra',\n",
       " '218,31',\n",
       " 'Bele Belinha',\n",
       " '373.454']"
      ]
     },
     "execution_count": 549,
     "metadata": {},
     "output_type": "execute_result"
    }
   ],
   "source": [
    "lines"
   ]
  },
  {
   "cell_type": "code",
   "execution_count": 550,
   "metadata": {},
   "outputs": [],
   "source": [
    "names = []\n",
    "numbers = []\n",
    "for element in lines:\n",
    "    if element.replace(\".\", \"\").replace(\",\", \"\").isdigit():\n",
    "        numbers.append(element)\n",
    "    else:\n",
    "        names.append(element)"
   ]
  },
  {
   "cell_type": "code",
   "execution_count": 551,
   "metadata": {},
   "outputs": [
    {
     "data": {
      "text/plain": [
       "['Bastoz',\n",
       " 'Ferumnbras',\n",
       " 'Loko Da Silva',\n",
       " 'swvia',\n",
       " 'Rolderick',\n",
       " 'Troni',\n",
       " 'VB',\n",
       " 'bra',\n",
       " 'Bele Belinha']"
      ]
     },
     "execution_count": 551,
     "metadata": {},
     "output_type": "execute_result"
    }
   ],
   "source": [
    "names"
   ]
  },
  {
   "cell_type": "code",
   "execution_count": 552,
   "metadata": {},
   "outputs": [
    {
     "data": {
      "text/plain": [
       "['1.616.941',\n",
       " '696,069',\n",
       " '391375',\n",
       " '174.326',\n",
       " '798,375',\n",
       " '163.503',\n",
       " '47.694',\n",
       " '218,31',\n",
       " '373.454']"
      ]
     },
     "execution_count": 552,
     "metadata": {},
     "output_type": "execute_result"
    }
   ],
   "source": [
    "numbers"
   ]
  },
  {
   "cell_type": "code",
   "execution_count": 555,
   "metadata": {},
   "outputs": [],
   "source": [
    "df = pd.DataFrame({'Party Member' :names, 'Gold Earned': numbers})"
   ]
  },
  {
   "cell_type": "code",
   "execution_count": 556,
   "metadata": {},
   "outputs": [
    {
     "data": {
      "text/html": [
       "<div>\n",
       "<style scoped>\n",
       "    .dataframe tbody tr th:only-of-type {\n",
       "        vertical-align: middle;\n",
       "    }\n",
       "\n",
       "    .dataframe tbody tr th {\n",
       "        vertical-align: top;\n",
       "    }\n",
       "\n",
       "    .dataframe thead th {\n",
       "        text-align: right;\n",
       "    }\n",
       "</style>\n",
       "<table border=\"1\" class=\"dataframe\">\n",
       "  <thead>\n",
       "    <tr style=\"text-align: right;\">\n",
       "      <th></th>\n",
       "      <th>Party Member</th>\n",
       "      <th>Gold Earned</th>\n",
       "    </tr>\n",
       "  </thead>\n",
       "  <tbody>\n",
       "    <tr>\n",
       "      <th>0</th>\n",
       "      <td>Bastoz</td>\n",
       "      <td>1.616.941</td>\n",
       "    </tr>\n",
       "    <tr>\n",
       "      <th>1</th>\n",
       "      <td>Ferumnbras</td>\n",
       "      <td>696,069</td>\n",
       "    </tr>\n",
       "    <tr>\n",
       "      <th>2</th>\n",
       "      <td>Loko Da Silva</td>\n",
       "      <td>391375</td>\n",
       "    </tr>\n",
       "    <tr>\n",
       "      <th>3</th>\n",
       "      <td>swvia</td>\n",
       "      <td>174.326</td>\n",
       "    </tr>\n",
       "    <tr>\n",
       "      <th>4</th>\n",
       "      <td>Rolderick</td>\n",
       "      <td>798,375</td>\n",
       "    </tr>\n",
       "    <tr>\n",
       "      <th>5</th>\n",
       "      <td>Troni</td>\n",
       "      <td>163.503</td>\n",
       "    </tr>\n",
       "    <tr>\n",
       "      <th>6</th>\n",
       "      <td>VB</td>\n",
       "      <td>47.694</td>\n",
       "    </tr>\n",
       "    <tr>\n",
       "      <th>7</th>\n",
       "      <td>bra</td>\n",
       "      <td>218,31</td>\n",
       "    </tr>\n",
       "    <tr>\n",
       "      <th>8</th>\n",
       "      <td>Bele Belinha</td>\n",
       "      <td>373.454</td>\n",
       "    </tr>\n",
       "  </tbody>\n",
       "</table>\n",
       "</div>"
      ],
      "text/plain": [
       "    Party Member Gold Earned\n",
       "0         Bastoz   1.616.941\n",
       "1     Ferumnbras     696,069\n",
       "2  Loko Da Silva      391375\n",
       "3          swvia     174.326\n",
       "4      Rolderick     798,375\n",
       "5          Troni     163.503\n",
       "6             VB      47.694\n",
       "7            bra      218,31\n",
       "8   Bele Belinha     373.454"
      ]
     },
     "execution_count": 556,
     "metadata": {},
     "output_type": "execute_result"
    }
   ],
   "source": [
    "df"
   ]
  },
  {
   "cell_type": "code",
   "execution_count": 557,
   "metadata": {},
   "outputs": [],
   "source": [
    "df.to_excel('uotabel.xlsx')"
   ]
  },
  {
   "cell_type": "code",
   "execution_count": null,
   "metadata": {},
   "outputs": [],
   "source": []
  }
 ],
 "metadata": {
  "kernelspec": {
   "display_name": "Python 3",
   "language": "python",
   "name": "python3"
  },
  "language_info": {
   "codemirror_mode": {
    "name": "ipython",
    "version": 3
   },
   "file_extension": ".py",
   "mimetype": "text/x-python",
   "name": "python",
   "nbconvert_exporter": "python",
   "pygments_lexer": "ipython3",
   "version": "3.6.5"
  }
 },
 "nbformat": 4,
 "nbformat_minor": 2
}
