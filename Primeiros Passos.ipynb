{
 "cells": [
  {
   "cell_type": "code",
   "execution_count": null,
   "metadata": {},
   "outputs": [],
   "source": [
    "import math"
   ]
  },
  {
   "cell_type": "code",
   "execution_count": null,
   "metadata": {},
   "outputs": [],
   "source": [
    "myVar = 5 \n",
    "print(myVar)"
   ]
  },
  {
   "cell_type": "code",
   "execution_count": null,
   "metadata": {},
   "outputs": [],
   "source": [
    "test = 0b0011111111111111111111111\n",
    "print(test)"
   ]
  },
  {
   "cell_type": "code",
   "execution_count": null,
   "metadata": {},
   "outputs": [],
   "source": [
    "teste = 2345e-2\n",
    "print(teste)"
   ]
  },
  {
   "cell_type": "code",
   "execution_count": null,
   "metadata": {},
   "outputs": [],
   "source": [
    "j =2\n",
    "mycomplex = 2+3*j\n",
    "print(mycomplex)"
   ]
  },
  {
   "cell_type": "code",
   "execution_count": null,
   "metadata": {},
   "outputs": [],
   "source": [
    "a = 1\n",
    "b = -3\n",
    "c = -54\n",
    "nume = -b + math.sqrt(b**2 - 4*(a*c))\n",
    "denomi = 2*a\n",
    "bask = nume/denomi\n",
    "print(bask)"
   ]
  },
  {
   "cell_type": "code",
   "execution_count": null,
   "metadata": {},
   "outputs": [],
   "source": [
    "a = 1\n",
    "b = -3\n",
    "c = -54\n",
    "nume = -b - math.sqrt(b**2 - 4*(a*c))\n",
    "denomi = 2*a\n",
    "bask = nume/denomi\n",
    "print(bask)"
   ]
  },
  {
   "cell_type": "code",
   "execution_count": null,
   "metadata": {},
   "outputs": [],
   "source": [
    "print(ord(\"A\"))"
   ]
  },
  {
   "cell_type": "code",
   "execution_count": null,
   "metadata": {},
   "outputs": [],
   "source": [
    "myint = int(\"123\")\n",
    "print(int(myint))"
   ]
  },
  {
   "cell_type": "code",
   "execution_count": null,
   "metadata": {},
   "outputs": [],
   "source": [
    "print(myint -2)"
   ]
  },
  {
   "cell_type": "code",
   "execution_count": null,
   "metadata": {},
   "outputs": [],
   "source": [
    "mystr = str(123321)\n",
    "print(type(mystr))\n",
    "print(mystr)"
   ]
  },
  {
   "cell_type": "code",
   "execution_count": null,
   "metadata": {},
   "outputs": [],
   "source": [
    "import datetime"
   ]
  },
  {
   "cell_type": "code",
   "execution_count": null,
   "metadata": {},
   "outputs": [],
   "source": [
    "print(datetime.datetime.now())"
   ]
  },
  {
   "cell_type": "code",
   "execution_count": null,
   "metadata": {},
   "outputs": [],
   "source": [
    "print(str(datetime.datetime.now().date()))"
   ]
  },
  {
   "cell_type": "code",
   "execution_count": null,
   "metadata": {},
   "outputs": [],
   "source": [
    "d1 = datetime.datetime.now().date()\n",
    "print(type(d1))\n",
    "print(datetime.datetime.now().date())"
   ]
  },
  {
   "cell_type": "code",
   "execution_count": null,
   "metadata": {},
   "outputs": [],
   "source": [
    "time()"
   ]
  },
  {
   "cell_type": "code",
   "execution_count": null,
   "metadata": {},
   "outputs": [],
   "source": [
    "print((\"Hello\", \"Goodbye\")[True])"
   ]
  },
  {
   "cell_type": "code",
   "execution_count": null,
   "metadata": {},
   "outputs": [],
   "source": [
    "x = 2 \n",
    "y = 3\n",
    "if x == 2: \n",
    "    print(x) \n",
    "else:\n",
    "    print(y)"
   ]
  },
  {
   "cell_type": "code",
   "execution_count": null,
   "metadata": {},
   "outputs": [],
   "source": [
    "def hello():\n",
    "    print(\"this is my first python function\")"
   ]
  },
  {
   "cell_type": "code",
   "execution_count": null,
   "metadata": {},
   "outputs": [],
   "source": [
    "hello()"
   ]
  },
  {
   "cell_type": "code",
   "execution_count": null,
   "metadata": {},
   "outputs": [],
   "source": [
    "def Hello2( Greeting ):\n",
    " print(Greeting)"
   ]
  },
  {
   "cell_type": "code",
   "execution_count": null,
   "metadata": {},
   "outputs": [],
   "source": [
    "Hello2(5+5)"
   ]
  },
  {
   "cell_type": "code",
   "execution_count": null,
   "metadata": {},
   "outputs": [],
   "source": [
    "def Addit (v1,v2):\n",
    "    print(v1, \"+\" , v2, \"=\" ,(v1+v2) )"
   ]
  },
  {
   "cell_type": "code",
   "execution_count": null,
   "metadata": {},
   "outputs": [],
   "source": [
    "Addit(v1 = 10,v2 = 4)"
   ]
  },
  {
   "cell_type": "code",
   "execution_count": null,
   "metadata": {},
   "outputs": [],
   "source": [
    "def Hello3(Greeting = \"No Value Supplied\"):\n",
    " print(Greeting)"
   ]
  },
  {
   "cell_type": "code",
   "execution_count": null,
   "metadata": {},
   "outputs": [],
   "source": [
    "Hello3(2+7)"
   ]
  },
  {
   "cell_type": "code",
   "execution_count": null,
   "metadata": {},
   "outputs": [],
   "source": [
    "def Hello4(Argcount, *VarArgs):\n",
    "    print(\"you passed\" , Argcount, \" arguments.\")\n",
    "    for Arg in VarArgs:\n",
    "        print(Arg)"
   ]
  },
  {
   "cell_type": "code",
   "execution_count": null,
   "metadata": {},
   "outputs": [],
   "source": [
    "Hello4(3,\"one\", \"two\" ,\"three\")"
   ]
  },
  {
   "cell_type": "code",
   "execution_count": null,
   "metadata": {},
   "outputs": [],
   "source": [
    "def DoAdd(va1,va2):\n",
    "    return va1+va2"
   ]
  },
  {
   "cell_type": "code",
   "execution_count": null,
   "metadata": {},
   "outputs": [],
   "source": [
    "DoAdd(10,11)"
   ]
  },
  {
   "cell_type": "code",
   "execution_count": null,
   "metadata": {},
   "outputs": [],
   "source": [
    "print(\"a soma de 10 + 11 e\", DoAdd(10,11))"
   ]
  },
  {
   "cell_type": "code",
   "execution_count": null,
   "metadata": {},
   "outputs": [],
   "source": [
    "print((DoAdd(2,5)==DoAdd(6,1)))"
   ]
  },
  {
   "cell_type": "code",
   "execution_count": null,
   "metadata": {},
   "outputs": [],
   "source": [
    "Name =  input(\"tell your name: \" )\n",
    "print(\"hello\", Name)"
   ]
  },
  {
   "cell_type": "code",
   "execution_count": null,
   "metadata": {},
   "outputs": [],
   "source": [
    "Anumber = float(input(\"type a number: \"))\n",
    "print(\"you typed: \", Anumber)"
   ]
  },
  {
   "cell_type": "code",
   "execution_count": null,
   "metadata": {},
   "outputs": [],
   "source": [
    "Anumber(\"1\")"
   ]
  },
  {
   "cell_type": "code",
   "execution_count": null,
   "metadata": {},
   "outputs": [],
   "source": [
    "testeme = 6"
   ]
  },
  {
   "cell_type": "code",
   "execution_count": null,
   "metadata": {},
   "outputs": [],
   "source": [
    "if testeme == 6:\n",
    "    print(\"testeme e igual a 6!\")\n",
    "else:\n",
    "    print(\"diferente de 6\")"
   ]
  },
  {
   "cell_type": "code",
   "execution_count": null,
   "metadata": {},
   "outputs": [],
   "source": [
    "Value = int(input(\"type a number between 1 and 10:\"))\n",
    "if(Value>0) and (Value<=10):\n",
    "    print(\"You typed: \", Value)"
   ]
  },
  {
   "cell_type": "code",
   "execution_count": null,
   "metadata": {},
   "outputs": [],
   "source": [
    "Value = int(input(\"type a number between 1 and 10: \"))\n",
    "if (Value > 0) and (Value <= 10):\n",
    "    print(\"you typed: \", Value)\n",
    "else:\n",
    "    print(\"the value you typed is incorret!\")"
   ]
  },
  {
   "cell_type": "code",
   "execution_count": null,
   "metadata": {},
   "outputs": [],
   "source": [
    "print(\"1. Red\")\n",
    "print(\"2. Orange\")\n",
    "print(\"3. Yellow\")\n",
    "print(\"4. Green\")\n",
    "print(\"5. Blue\")\n",
    "print(\"6. Purple\")\n",
    "Choince = int(input(\"Select you favorite color: \"))\n",
    "if (Choice == 1):\n",
    "    print(\"you chose Red!\")\n",
    "elif (Choice == 2 ):\n",
    "    print(\"you chose Orange!\")\n",
    "elif (Choice == 3 ):\n",
    "    print(\"you chose Yellow!\")\n",
    "elif (hoice == 4 ):\n",
    "    print(\"you chose Green!\")\n",
    "elif (choice == 5 ):\n",
    "    print(\"you chose Blue!\")\n",
    "elif (choice == 6 ):\n",
    "    print(\"you chose Purple!\")\n",
    "else:\n",
    "    print(\"you made an invalid choice!\")"
   ]
  },
  {
   "cell_type": "code",
   "execution_count": null,
   "metadata": {},
   "outputs": [],
   "source": [
    "print(\"1. Eggs\")\n",
    "print(\"2. Pancakes\")\n",
    "print(\"3. Waffles\")\n",
    "print(\"4. Oatmeal\")\n",
    "MainChoice = int(input(\"Choose a breakfast item: \"))\n",
    "if (MainChoice == 2):\n",
    " Meal = \"Pancakes\"\n",
    "elif (MainChoice == 3):\n",
    " Meal = \"Waffles\"\n",
    "if (MainChoice == 1):\n",
    " print(\"1. Wheat Toast\")\n",
    " print(\"2. Sour Dough\")\n",
    " print(\"3. Rye Toast\")\n",
    " print(\"4. Pancakes\")\n",
    " Bread = int(input(\"Choose a type of bread: \"))\n",
    " if (Bread == 1):\n",
    " print(\"You chose eggs with wheat toast.\")\n",
    " elif (Bread == 2):\n",
    " print(\"You chose eggs with sour dough.\")\n",
    " elif (Bread == 3):\n",
    " print(\"You chose eggs with rye toast.\")\n",
    " elif (Bread == 4):\n",
    " print(\"You chose eggs with pancakes.\")\n",
    " else:\n",
    " print(\"We have eggs, but not that kind of bread.\")\n",
    "elif (MainChoice == 2) or (MainChoice == 3):\n",
    " print(\"1. Syrup\")\n",
    " print(\"2. Strawberries\")\n",
    " print(\"3. Powdered Sugar\")\n",
    " Topping = int(input(\"Choose a topping: \"))\n",
    " if (Topping == 1):\n",
    " print (\"You chose \" + Meal + \" with syrup.\")\n",
    " elif (Topping == 2):\n",
    " print (\"You chose \" + Meal + \" with strawberries.\")\n",
    " elif (Topping == 3):\n",
    " print (\"You chose \" + Meal + \" with powdered sugar.\")\n",
    " else:\n",
    " print (\"We have \" + Meal + \", but not that topping.\")\n",
    "elif (MainChoice == 4):\n",
    " print(\"You chose oatmeal.\")\n",
    "else:\n",
    " print(\"We don't serve that breakfast item!\")"
   ]
  },
  {
   "cell_type": "markdown",
   "metadata": {},
   "source": [
    "print(\"1. Eggs\")\n",
    "print(\"2. Pancakes\")\n",
    "print(\"3. Waffles\")\n",
    "print(\"4. Oatmeal\")\n",
    "MainChoice = int(input(\"Choose a breakfast item: \"))\n",
    "if (MainChoice == 2):\n",
    "    Meal = \"Pancakes\"\n",
    "elif (MainChoice == 3):\n",
    "    Meal = \"Waffles\"\n",
    "if (MainChoice == 1):\n",
    "    print(\"1. wheat toast\")\n",
    "    print(\"2. sour dough\")\n",
    "    print(\"3. rye toast\")\n",
    "    print(\"4. Pancakes\")\n",
    "    Bread = int(input(\"choose a tyupe of bread: \"))\n",
    "    if (Bread == 1):\n",
    "        print(\"You chose eggs with wheat toast.\")\n",
    "    elif (Bread == 2):\n",
    "        print(\"You chose eggs with sour dough.\")\n",
    "    elif (Bread == 3):\n",
    "        print(\"You chose eggs with rye dough\")\n",
    "    elif(Bread == 4):\n",
    "        print(\"You chose eggs with Pancakes\")\n",
    "    else:\n",
    "        print(\"we have eggs but not that kind of bread.\")\n",
    "elif (MainChoice == 2) or (MainChoice == 3):\n",
    "    print(\"1. syrup\")\n",
    "    print(\"2. strawbarries\")\n",
    "    print(\"3. powdered sugar\")\n",
    "    topping = int(input(\"choose your topping: \"))\n",
    "    if (topping == 1):\n",
    "        print(\"you choose \" + Meal +  \" with syrup\")\n",
    "    if (topping == 2):\n",
    "        print(\"you choose \" + Meal +  \" strawbarries\")\n",
    "    if (topping == 3):\n",
    "        print(\"you choose \" + Meal +  \" powdered sugar\")\n",
    "    else:\n",
    "        print(\"we have \" + Meal + \", but not that topping.\")\n",
    "elif (MainChoice == 4):\n",
    "    print(\"you choose oatmeal.\")\n",
    "else:\n",
    "    print(\"we dont serve that breakfast here!\")"
   ]
  },
  {
   "cell_type": "code",
   "execution_count": null,
   "metadata": {},
   "outputs": [],
   "source": [
    "LetterNum = 1\n",
    "for Letter in \"Howdy!\":\n",
    " print(\"Letter \", LetterNum, \" is \", Letter)\n",
    " LetterNum = LetterNum +1"
   ]
  },
  {
   "cell_type": "code",
   "execution_count": null,
   "metadata": {},
   "outputs": [],
   "source": [
    "LetterNum = 1\n",
    "for Letter in \"Howdy!\":\n",
    " print(\"Letter \", LetterNum, \" is \", Letter)\n",
    " LetterNum+=1"
   ]
  },
  {
   "cell_type": "code",
   "execution_count": null,
   "metadata": {},
   "outputs": [],
   "source": [
    "value = input(\"type less than 6 characters: \")\n",
    "letternum = 1\n",
    "for letter in value:\n",
    "    print(\"letter \", letternum , \" is \", letter)\n",
    "    letternum+=1\n",
    "    if letternum > 6:\n",
    "        print(\"the string is too long!\")\n",
    "        break"
   ]
  },
  {
   "cell_type": "code",
   "execution_count": null,
   "metadata": {},
   "outputs": [],
   "source": [
    "LetterNum = 1\n",
    "for Letter in \"Howdy!\":\n",
    "    if Letter == \"w\":\n",
    "        continue\n",
    "        print(\"encoutered w, not processed.\")\n",
    "    print(\" Letter \", LetterNum , \" is \", Letter)\n",
    "    LetterNum+=1"
   ]
  },
  {
   "cell_type": "code",
   "execution_count": null,
   "metadata": {},
   "outputs": [],
   "source": [
    "LetterNum = 1\n",
    "for Letter in \"Howdy!\":\n",
    "    if Letter == \"w\":\n",
    "        pass\n",
    "        print(\"encoutered w, not processed.\")\n",
    "    print(\" Letter \", LetterNum , \" is \", Letter)\n",
    "    LetterNum+=1"
   ]
  },
  {
   "cell_type": "code",
   "execution_count": null,
   "metadata": {},
   "outputs": [],
   "source": [
    "String = \"Stechies\"\n",
    "for value in String:\n",
    "    if value == \"e\":\n",
    "        pass\n",
    "    else:\n",
    "        print(\"value:\", value)"
   ]
  },
  {
   "cell_type": "code",
   "execution_count": null,
   "metadata": {},
   "outputs": [],
   "source": [
    "value = input(\"type less than 6 characters: \")\n",
    "letternum = 1\n",
    "for letter in value:\n",
    "    print(\"letter \", letternum , \" is \", letter)\n",
    "    letternum+=1\n",
    "    if letternum > 6:\n",
    "        print(\"the string is too long!\")\n",
    "        break\n",
    "else:\n",
    "    print(\"the string is blank\")"
   ]
  },
  {
   "cell_type": "code",
   "execution_count": null,
   "metadata": {},
   "outputs": [],
   "source": [
    "Sum = 0\n",
    "while Sum <= 5:\n",
    "    print(Sum)\n",
    "    Sum+=1"
   ]
  },
  {
   "cell_type": "code",
   "execution_count": null,
   "metadata": {},
   "outputs": [],
   "source": [
    "x = 1\n",
    "y = 1\n",
    "print('{:>4}'.format(' '), end = ' ')\n",
    "for x in range (1, 11):\n",
    "    print('{:>4}'.format(x), end=' ')\n",
    "print()\n",
    "for x in range(1, 11):\n",
    "    print('{:>4}'.format(x), end=' ')\n",
    "    while y <= 10:\n",
    "        print('{:>4}'.format(x * y), end=' ')\n",
    "        y+=1\n",
    "    print()\n",
    "    y=1"
   ]
  },
  {
   "cell_type": "code",
   "execution_count": null,
   "metadata": {},
   "outputs": [],
   "source": [
    "try:\n",
    "    Value = int(input(\"type a number between 1 and 10: \"))\n",
    "except ValueError:\n",
    "    print(\"you must type a number between 1 and 10!\")\n",
    "else:\n",
    "    if (Value > 0) and (Value <= 10):\n",
    "        print(\"you typed: \", Value)\n",
    "    else:\n",
    "        print(\"the value you typed is incorrect!\")"
   ]
  },
  {
   "cell_type": "code",
   "execution_count": null,
   "metadata": {},
   "outputs": [],
   "source": [
    "try:\n",
    "    Value = int(input(\"type a number between 1 and 10: \"))\n",
    "except ValueError:\n",
    "    print(\"you must type a number between 1 and 10!\")\n",
    "except:\n",
    "    print(\"this is the generic erroe!\")\n",
    "else:\n",
    "    if (Value > 0) and (Value <= 10):\n",
    "        print(\"you typed: \", Value)\n",
    "    else:\n",
    "        print(\"the value you typed is incorrect!\")"
   ]
  },
  {
   "cell_type": "code",
   "execution_count": null,
   "metadata": {},
   "outputs": [],
   "source": [
    "import sys"
   ]
  },
  {
   "cell_type": "code",
   "execution_count": null,
   "metadata": {},
   "outputs": [],
   "source": [
    "try:\n",
    "    file = open('myfile.txt')\n",
    "except IOError as e:\n",
    " print(\"Error opening file!\\r\\n\" +\n",
    " \"Error Number: {0}\\r\\n\".format(e.errno) +\n",
    " \"Error Text: {0}\".format(e.strerror))\n",
    "else:\n",
    " print(\"File opened as expected.\")\n",
    " File.close();"
   ]
  },
  {
   "cell_type": "code",
   "execution_count": null,
   "metadata": {},
   "outputs": [],
   "source": [
    "try:\n",
    "     File = open('myfile.txt')\n",
    "except IOError as e:\n",
    "     for Arg in e.args:\n",
    "         print(Arg)\n",
    "else:\n",
    "     print(\"File opened as expected.\")\n",
    "     File.close();"
   ]
  },
  {
   "cell_type": "code",
   "execution_count": null,
   "metadata": {},
   "outputs": [],
   "source": [
    "try:\n",
    "     File = open('myfile.txt')\n",
    "except IOError as e:\n",
    "     for Entry in dir(e):\n",
    "         if (not Entry.startswith(\"_\")):\n",
    "             try:\n",
    "                 print(Entry, \" = \", e.__getattribute__(Entry))\n",
    "             except AttributeError:\n",
    "                 print(\"Attribute \", Entry, \" not accessible.\")\n",
    "else:\n",
    " print(\"File opened as expected.\")\n",
    " File.close();"
   ]
  },
  {
   "cell_type": "code",
   "execution_count": null,
   "metadata": {},
   "outputs": [],
   "source": [
    "try:\n",
    "     Value = int(input(\"Type a number between 1 and 10: \"))\n",
    "except (ValueError, KeyboardInterrupt):\n",
    "     print(\"You must type a number between 1 and 10!\")\n",
    "else:\n",
    "    if (Value > 0) and (Value <= 10):\n",
    "        print(\"You typed: \", Value)\n",
    "    else:\n",
    "        print(\"The value you typed is incorrect!\")"
   ]
  },
  {
   "cell_type": "code",
   "execution_count": null,
   "metadata": {},
   "outputs": [],
   "source": [
    "try:\n",
    "    Value1 = int(input(\"Type the first number: \"))\n",
    "    Value2 = int(input(\"Type the second number: \"))\n",
    "    Output = Value1 / Value2"
   ]
  },
  {
   "cell_type": "code",
   "execution_count": null,
   "metadata": {},
   "outputs": [],
   "source": [
    "try:\n",
    "    v1 = int(input(\"tyepe the first number: \"))\n",
    "    v2 = int (input(\"type the secon number: \"))\n",
    "    output = v1/v2\n",
    "except ValueError:\n",
    "    print(\"You must type a whole number!\")\n",
    "except KeyboardInterrupt:\n",
    "    print(\"You pressed Ctrl+C!\")\n",
    "except ArithmeticError:\n",
    "    print(\"An undefined math error occurred.\")\n",
    "except ZeroDivisionError:\n",
    "    print(\"Attempted to divide by zero!\")\n",
    "else:\n",
    "    print(output)"
   ]
  },
  {
   "cell_type": "code",
   "execution_count": null,
   "metadata": {},
   "outputs": [],
   "source": [
    "try:\n",
    "    Value1 = int(input(\"Type the first number: \"))\n",
    "    Value2 = int(input(\"Type the second number: \"))\n",
    "    Output = Value1 / Value2\n",
    "except ValueError:\n",
    "     print(\"You must type a whole number!\")\n",
    "except KeyboardInterrupt:\n",
    "     print(\"You pressed Ctrl+C!\")\n",
    "except ZeroDivisionError:\n",
    "     print(\"Attempted to divide by zero!\")\n",
    "except ArithmeticError:\n",
    "     print(\"An undefined math error occurred.\")\n",
    "else:\n",
    " print(Output)"
   ]
  },
  {
   "cell_type": "code",
   "execution_count": null,
   "metadata": {},
   "outputs": [],
   "source": [
    "TryAgain = True\n",
    "while TryAgain:\n",
    "    try:\n",
    "        value = int(input(\"type a whole number.\"))\n",
    "    except ValueError:\n",
    "        print(\"you must type a number!\")\n",
    "        try:\n",
    "            DoOver = input(\"try again (y/n)? \")\n",
    "        except:\n",
    "            print(\"ok, see you next time!\")\n",
    "            TryAgain = False\n",
    "        else:\n",
    "            if (str.upper(DoOver) == \"N\"):\n",
    "                print(\"bye bye\")\n",
    "                TryAgain = False\n",
    "    except KeyboardInterrupt:\n",
    "        print(\"you pressed ctrl + c!\")\n",
    "        print(\"see you next time !\")\n",
    "        TryAgain = False\n",
    "    else:\n",
    "        print(value)\n",
    "        TryAgain = False"
   ]
  },
  {
   "cell_type": "code",
   "execution_count": null,
   "metadata": {},
   "outputs": [],
   "source": [
    "try:\n",
    "    raise ValueError\n",
    "except ValueError:\n",
    "    print(\"ValueError Exception!\")"
   ]
  },
  {
   "cell_type": "code",
   "execution_count": null,
   "metadata": {},
   "outputs": [],
   "source": [
    "try:\n",
    "    ex = ValueError()\n",
    "    ex.strerror = \"value must be whitn 1 and 10\"\n",
    "    raise ex\n",
    "except ValueError as e:\n",
    "    print(\"ValueError Exception!\", e.strerror)"
   ]
  },
  {
   "cell_type": "code",
   "execution_count": null,
   "metadata": {},
   "outputs": [],
   "source": [
    "class CustomValueError(ValueError):\n",
    "    def __init__(self,arg):\n",
    "        self.strerror = arg\n",
    "        self.args = {arg}\n",
    "try:\n",
    "    raise CustomValueError(\"Value most be withi 1 and 10.\")\n",
    "except CustomValueError as e:\n",
    "    print(\"CustomValueError exception\", e.strerror)"
   ]
  },
  {
   "cell_type": "code",
   "execution_count": null,
   "metadata": {},
   "outputs": [],
   "source": [
    "import sys\n",
    "try:\n",
    "    raise ValueError\n",
    "    print(\"Raising an aception:\")\n",
    "except ValueError:\n",
    "    print(\"ValueError Excption!\")\n",
    "    sys.exit()\n",
    "finally:\n",
    "    print(\"taking care of last minute datails.\")\n",
    "print(\"this code will never execute\")"
   ]
  },
  {
   "cell_type": "code",
   "execution_count": null,
   "metadata": {},
   "outputs": [],
   "source": [
    "def SayHello(Name):\n",
    "    print(\"Hello\", Name)\n",
    "    return"
   ]
  },
  {
   "cell_type": "code",
   "execution_count": null,
   "metadata": {},
   "outputs": [],
   "source": [
    "SayHello(\"rodrigo\")"
   ]
  },
  {
   "cell_type": "code",
   "execution_count": null,
   "metadata": {},
   "outputs": [],
   "source": [
    "import os"
   ]
  },
  {
   "cell_type": "code",
   "execution_count": null,
   "metadata": {},
   "outputs": [],
   "source": [
    "print(os.getcwd())"
   ]
  },
  {
   "cell_type": "code",
   "execution_count": null,
   "metadata": {},
   "outputs": [],
   "source": [
    "for entry in os.listdir(): print(entry)"
   ]
  },
  {
   "cell_type": "code",
   "execution_count": null,
   "metadata": {},
   "outputs": [],
   "source": [
    "dir(\"Primeiros Passos.ipynb\")"
   ]
  },
  {
   "cell_type": "code",
   "execution_count": null,
   "metadata": {},
   "outputs": [],
   "source": [
    "dir (SayHello)"
   ]
  },
  {
   "cell_type": "code",
   "execution_count": null,
   "metadata": {},
   "outputs": [],
   "source": [
    "import sys\n",
    "for p in sys.path: print(p)"
   ]
  },
  {
   "cell_type": "code",
   "execution_count": null,
   "metadata": {},
   "outputs": [],
   "source": [
    "import os\n",
    "os.environ[‘PYTHONPATH’].split(os.pathsep)"
   ]
  },
  {
   "cell_type": "code",
   "execution_count": null,
   "metadata": {},
   "outputs": [],
   "source": [
    "conda list"
   ]
  },
  {
   "cell_type": "code",
   "execution_count": null,
   "metadata": {},
   "outputs": [],
   "source": [
    "pip list --outdated"
   ]
  },
  {
   "cell_type": "code",
   "execution_count": null,
   "metadata": {},
   "outputs": [],
   "source": [
    "help(\"__sizeof__\")"
   ]
  },
  {
   "cell_type": "code",
   "execution_count": null,
   "metadata": {},
   "outputs": [],
   "source": [
    "SayHello.__sizeof__()"
   ]
  },
  {
   "cell_type": "code",
   "execution_count": null,
   "metadata": {},
   "outputs": [],
   "source": [
    "#Comecando a Estudar Strings\n",
    "\n",
    "print(\"Part of this text\\r\\nis on the next line.\")\n",
    "print(\"This is an A\\nwith a grave accent: \\xC0.\")\n",
    "print(\"This is a drawing character: \\u2562.\")\n",
    "print(\"This is a pilcrow: \\266.\")\n",
    "print(\"This is a division sign: \\xF7.\")"
   ]
  },
  {
   "cell_type": "code",
   "execution_count": null,
   "metadata": {},
   "outputs": [],
   "source": [
    "MS = \"Hello World\"\n",
    "print(MS[6:])\n",
    "print(MS[6:11])\n",
    "print(MS[11::-1])"
   ]
  },
  {
   "cell_type": "code",
   "execution_count": null,
   "metadata": {},
   "outputs": [],
   "source": [
    "String1 = \"Hello World\"\n",
    "String2 = \"Python is Fun!\"\n",
    "print(String1[0])\n",
    "print(String1[0:5])\n",
    "print(String1[:5])\n",
    "print(String1[6:])\n",
    "String3 = String1[:6] + String2[:6]\n",
    "print(String3)\n",
    "print(String2[:7]*5)"
   ]
  },
  {
   "cell_type": "code",
   "execution_count": null,
   "metadata": {},
   "outputs": [],
   "source": [
    "MS.capitalize()\n",
    "MS.isdigit()"
   ]
  },
  {
   "cell_type": "code",
   "execution_count": null,
   "metadata": {},
   "outputs": [],
   "source": [
    "print(MS.lower())\n",
    "print(MS.upper())"
   ]
  },
  {
   "cell_type": "code",
   "execution_count": null,
   "metadata": {},
   "outputs": [],
   "source": [
    "max(MS)"
   ]
  },
  {
   "cell_type": "code",
   "execution_count": null,
   "metadata": {},
   "outputs": [],
   "source": [
    "min(MS)"
   ]
  },
  {
   "cell_type": "code",
   "execution_count": null,
   "metadata": {},
   "outputs": [],
   "source": [
    "MyString = \" Hello World \"\n",
    "print(MyString.upper())\n",
    "print(MyString.strip())\n",
    "print(MyString.center(41, \"X\"))\n",
    "print(MyString.strip().center(21, \"*\"))\n",
    "print(MyString.isdigit())\n",
    "print(MyString.istitle())\n",
    "print(max(MyString))\n",
    "print(MyString.split())\n",
    "print(MyString.split()[0])"
   ]
  },
  {
   "cell_type": "code",
   "execution_count": null,
   "metadata": {},
   "outputs": [],
   "source": [
    "type(MyString.split())"
   ]
  },
  {
   "cell_type": "code",
   "execution_count": null,
   "metadata": {},
   "outputs": [],
   "source": [
    "MyString.splitlines()"
   ]
  },
  {
   "cell_type": "code",
   "execution_count": null,
   "metadata": {},
   "outputs": [],
   "source": [
    "StroingSL = \"Part of this text\\r\\nis on the next line.\"\n",
    "print(StroingSL.splitlines())\n",
    "print(StroingSL.split())"
   ]
  },
  {
   "cell_type": "code",
   "execution_count": null,
   "metadata": {},
   "outputs": [],
   "source": [
    "strr = \"of\"\n",
    "StroingSL.count(\"of\")"
   ]
  },
  {
   "cell_type": "code",
   "execution_count": null,
   "metadata": {},
   "outputs": [],
   "source": [
    "SearchMe = \"The apple is red and the berry is blue!\"\n",
    "print(SearchMe.find(\"is\"))\n",
    "print(SearchMe.rfind(\"is\"))\n",
    "print(SearchMe.count(\"is\"))\n",
    "print(SearchMe.startswith(\"The\"))\n",
    "print(SearchMe.endswith(\"The\"))\n",
    "print(SearchMe.replace(\"apple\", \"car\")\n",
    " .replace(\"berry\", \"truck\"))\n"
   ]
  },
  {
   "cell_type": "code",
   "execution_count": null,
   "metadata": {},
   "outputs": [],
   "source": [
    "Formatted = \"{:d}\"\n",
    "print(Formatted.format(7000))\n",
    "Formatted = \"{:,d}\"\n",
    "print(Formatted.format(7000))\n",
    "Formatted = \"{:^15,d}\"\n",
    "print(Formatted.format(7000))\n",
    "Formatted = \"{:*^15,d}\"\n",
    "print(Formatted.format(7000))\n",
    "Formatted = \"{:*^15.2f}\"\n",
    "print(Formatted.format(7000))\n",
    "Formatted = \"{:*>15X}\"\n",
    "print(Formatted.format(7000))\n",
    "Formatted = \"{:*<#15x}\"\n",
    "print(Formatted.format(7000))\n",
    "Formatted = \"A {0} {1} and a {0} {2}.\"\n",
    "print(Formatted.format(\"blue\", \"car\", \"truck\"))"
   ]
  },
  {
   "cell_type": "code",
   "execution_count": null,
   "metadata": {},
   "outputs": [],
   "source": [
    "string = \"Hello World\"\n",
    "result = \"\"\n",
    "for char in string:\n",
    "    result = char + result\n",
    "print(result)"
   ]
  },
  {
   "cell_type": "code",
   "execution_count": null,
   "metadata": {},
   "outputs": [],
   "source": [
    "#Comecando os Estudos com Listas"
   ]
  },
  {
   "cell_type": "code",
   "execution_count": null,
   "metadata": {},
   "outputs": [],
   "source": [
    "List0 = [\"One\",1,\"Two\",2,\"Three\",3,True]"
   ]
  },
  {
   "cell_type": "code",
   "execution_count": null,
   "metadata": {},
   "outputs": [],
   "source": [
    "print(List0[:7])"
   ]
  },
  {
   "cell_type": "code",
   "execution_count": null,
   "metadata": {},
   "outputs": [],
   "source": [
    "dir(List0)"
   ]
  },
  {
   "cell_type": "code",
   "execution_count": null,
   "metadata": {
    "scrolled": true
   },
   "outputs": [],
   "source": [
    "print(List1[-2:])"
   ]
  },
  {
   "cell_type": "code",
   "execution_count": null,
   "metadata": {},
   "outputs": [],
   "source": [
    "List1 = [0, 1, 2, 3, 4, 5]\n",
    "for item in List1:\n",
    "    print(item)"
   ]
  },
  {
   "cell_type": "code",
   "execution_count": null,
   "metadata": {},
   "outputs": [],
   "source": [
    "List1.append(6)\n",
    "print(List1)"
   ]
  },
  {
   "cell_type": "code",
   "execution_count": null,
   "metadata": {},
   "outputs": [],
   "source": [
    "List1.extend(List0)\n",
    "print(List1)"
   ]
  },
  {
   "cell_type": "code",
   "execution_count": null,
   "metadata": {},
   "outputs": [],
   "source": [
    "List2 = []"
   ]
  },
  {
   "cell_type": "code",
   "execution_count": null,
   "metadata": {},
   "outputs": [],
   "source": [
    "len(List2)"
   ]
  },
  {
   "cell_type": "code",
   "execution_count": null,
   "metadata": {},
   "outputs": [],
   "source": [
    "List2.append(1)"
   ]
  },
  {
   "cell_type": "code",
   "execution_count": null,
   "metadata": {},
   "outputs": [],
   "source": [
    "List2[0]"
   ]
  },
  {
   "cell_type": "code",
   "execution_count": null,
   "metadata": {},
   "outputs": [],
   "source": [
    "List2.insert(0,2)\n",
    "print(List2)"
   ]
  },
  {
   "cell_type": "code",
   "execution_count": null,
   "metadata": {},
   "outputs": [],
   "source": [
    "L3 = List2.copy()"
   ]
  },
  {
   "cell_type": "code",
   "execution_count": null,
   "metadata": {},
   "outputs": [],
   "source": [
    "List2.extend(L3)\n",
    "List2"
   ]
  },
  {
   "cell_type": "code",
   "execution_count": null,
   "metadata": {},
   "outputs": [],
   "source": [
    "List2.pop()"
   ]
  },
  {
   "cell_type": "code",
   "execution_count": null,
   "metadata": {},
   "outputs": [],
   "source": [
    "List2.remove(1)"
   ]
  },
  {
   "cell_type": "code",
   "execution_count": null,
   "metadata": {},
   "outputs": [],
   "source": [
    "print(List2)"
   ]
  },
  {
   "cell_type": "code",
   "execution_count": null,
   "metadata": {},
   "outputs": [],
   "source": [
    "List2.clear()\n",
    "len(List2)"
   ]
  },
  {
   "cell_type": "code",
   "execution_count": null,
   "metadata": {},
   "outputs": [],
   "source": [
    "list_of_strings = [\"apple\", \"2\", \"cherry\"]\n",
    "delimiter = \" \"\n",
    "single_string = delimiter.join(list_of_strings)\n",
    "print(single_string)"
   ]
  },
  {
   "cell_type": "code",
   "execution_count": null,
   "metadata": {},
   "outputs": [],
   "source": [
    "type(single_string)"
   ]
  },
  {
   "cell_type": "code",
   "execution_count": null,
   "metadata": {},
   "outputs": [],
   "source": [
    "del str"
   ]
  },
  {
   "cell_type": "code",
   "execution_count": null,
   "metadata": {},
   "outputs": [],
   "source": [
    "\n",
    "mixed_list = [True, \"arroz\", 1, 2.2]\n",
    "delimiter = \"-\"\n",
    "string_list = map(str, mixed_list)\n",
    "single_string = delimiter.join(string_list)\n",
    "print(single_string)"
   ]
  },
  {
   "cell_type": "code",
   "execution_count": null,
   "metadata": {},
   "outputs": [],
   "source": [
    "mixed_list = [True, \"arroz\", 1, 2.2]\n",
    "single_string = \" \".join([str(x) for x in mixed_list])\n",
    "print(single_string)"
   ]
  },
  {
   "cell_type": "code",
   "execution_count": null,
   "metadata": {},
   "outputs": [],
   "source": [
    "mixed_list = [True, \"arroz\", 1, 2.2]\n",
    "delimiter = \" \"\n",
    "string_list = map(str, mixed_list)\n",
    "single_string = delimiter.join(string_list)\n",
    "print(single_string)"
   ]
  },
  {
   "cell_type": "code",
   "execution_count": null,
   "metadata": {},
   "outputs": [],
   "source": []
  },
  {
   "cell_type": "code",
   "execution_count": null,
   "metadata": {},
   "outputs": [],
   "source": [
    "bb =' '.join(map(str, List1))\n",
    "print(bb)"
   ]
  },
  {
   "cell_type": "code",
   "execution_count": null,
   "metadata": {},
   "outputs": [],
   "source": [
    "Colors = [\"red\", \"orange\", \"yellow\", \"green\", \"blue\"]\n",
    "ColorSelect = \"\"\n",
    "while str.upper(ColorSelect) != \"QUIT\":\n",
    "    ColorSelect = input(\"Please Type a color name: \")\n",
    "    if (Colors.count(ColorSelect) >= 1):\n",
    "        print(\"the color exist in the list!\")\n",
    "    elif (str.upper(ColorSelect) != \"QUIT\"):\n",
    "        print(\"the list doenst contain thje color.\")"
   ]
  },
  {
   "cell_type": "code",
   "execution_count": null,
   "metadata": {},
   "outputs": [],
   "source": [
    "Colors = [\"Red\", \"Orange\", \"Yellow\", \"Green\", \"Blue\"]\n",
    "for Item in Colors:\n",
    " print(Item, end=\" \")\n",
    "print()\n",
    "Colors.sort()\n",
    "for Item in Colors:\n",
    " print(Item, end=\" \")\n",
    "print()"
   ]
  },
  {
   "cell_type": "code",
   "execution_count": null,
   "metadata": {},
   "outputs": [],
   "source": [
    "from collections import Counter\n",
    "MyList = [1, 2, 3, 4, 1, 2, 3, 1, 2, 1, 5, 2, 3, 4, 1, 2, 4,5,1,2,1]\n",
    "ListCount = Counter(MyList)\n",
    "print(ListCount)\n",
    "for ThisItem in ListCount.items():\n",
    "    print(\"Item: \", ThisItem[0],\n",
    "        \" Appears: \", ThisItem[1])\n",
    "print(\"The value 2 appears {0} times.\"\n",
    " .format(ListCount.get(2)))"
   ]
  },
  {
   "cell_type": "code",
   "execution_count": null,
   "metadata": {},
   "outputs": [],
   "source": [
    "my_tuple =(\"red\",\"Blue\",\"Green\")"
   ]
  },
  {
   "cell_type": "code",
   "execution_count": null,
   "metadata": {},
   "outputs": [],
   "source": [
    "my_tuple"
   ]
  },
  {
   "cell_type": "code",
   "execution_count": null,
   "metadata": {},
   "outputs": [],
   "source": [
    "print(dir(my_tuple))"
   ]
  },
  {
   "cell_type": "code",
   "execution_count": null,
   "metadata": {},
   "outputs": [],
   "source": [
    "len(my_tuple)"
   ]
  },
  {
   "cell_type": "code",
   "execution_count": null,
   "metadata": {},
   "outputs": [],
   "source": [
    "my_tuple =  my_tuple.__add__((\"Black\",))"
   ]
  },
  {
   "cell_type": "code",
   "execution_count": null,
   "metadata": {},
   "outputs": [],
   "source": [
    "my_tuple = my_tuple.__add__((\"Pruple\",))"
   ]
  },
  {
   "cell_type": "code",
   "execution_count": null,
   "metadata": {},
   "outputs": [],
   "source": [
    "my_tuple = my_tuple.__add__((\"Yellow\",(\"organe\",\"green\")))"
   ]
  },
  {
   "cell_type": "code",
   "execution_count": null,
   "metadata": {},
   "outputs": [],
   "source": [
    "my_tuple"
   ]
  },
  {
   "cell_type": "code",
   "execution_count": null,
   "metadata": {},
   "outputs": [],
   "source": [
    "my_tuple[6]"
   ]
  },
  {
   "cell_type": "code",
   "execution_count": null,
   "metadata": {},
   "outputs": [],
   "source": [
    "my_tuple[6][1]"
   ]
  },
  {
   "cell_type": "code",
   "execution_count": null,
   "metadata": {},
   "outputs": [],
   "source": [
    "my_tuple[:6]"
   ]
  },
  {
   "cell_type": "code",
   "execution_count": null,
   "metadata": {},
   "outputs": [],
   "source": [
    "Colors = {\"Sam\": \"blue\",\"Amy\": \"Red\",\"Sarah\": \"Yellow\"}"
   ]
  },
  {
   "cell_type": "code",
   "execution_count": null,
   "metadata": {},
   "outputs": [],
   "source": [
    "Colors"
   ]
  },
  {
   "cell_type": "code",
   "execution_count": null,
   "metadata": {},
   "outputs": [],
   "source": [
    "Colors[\"Sam\"]"
   ]
  },
  {
   "cell_type": "code",
   "execution_count": null,
   "metadata": {},
   "outputs": [],
   "source": [
    "Colors.keys()"
   ]
  },
  {
   "cell_type": "code",
   "execution_count": null,
   "metadata": {},
   "outputs": [],
   "source": [
    "Colors.values()"
   ]
  },
  {
   "cell_type": "code",
   "execution_count": null,
   "metadata": {},
   "outputs": [],
   "source": [
    "for item in Colors.keys():\n",
    "    print(\"{0} likes the color {1}.\".format(item, Colors[item]))"
   ]
  },
  {
   "cell_type": "code",
   "execution_count": null,
   "metadata": {},
   "outputs": [],
   "source": [
    "Colors[\"Sarah\"]= \"Black\""
   ]
  },
  {
   "cell_type": "code",
   "execution_count": null,
   "metadata": {},
   "outputs": [],
   "source": [
    "Colors"
   ]
  },
  {
   "cell_type": "code",
   "execution_count": null,
   "metadata": {},
   "outputs": [],
   "source": [
    "Colors.update({\"Harry\":\"White\"})"
   ]
  },
  {
   "cell_type": "code",
   "execution_count": null,
   "metadata": {},
   "outputs": [],
   "source": [
    "Colors"
   ]
  },
  {
   "cell_type": "code",
   "execution_count": null,
   "metadata": {},
   "outputs": [],
   "source": [
    "del Colors[\"Sam\"]"
   ]
  },
  {
   "cell_type": "code",
   "execution_count": null,
   "metadata": {},
   "outputs": [],
   "source": [
    "len(Colors)"
   ]
  },
  {
   "cell_type": "code",
   "execution_count": null,
   "metadata": {},
   "outputs": [],
   "source": [
    "Colors.clear()"
   ]
  },
  {
   "cell_type": "code",
   "execution_count": null,
   "metadata": {},
   "outputs": [],
   "source": [
    "Colors"
   ]
  },
  {
   "cell_type": "code",
   "execution_count": null,
   "metadata": {},
   "outputs": [],
   "source": [
    "def PrintBlue():\n",
    "     print(\"You chose blue!\\r\\n\")\n",
    "def PrintRed():\n",
    "     print(\"You chose red!\\r\\n\")\n",
    "def PrintOrange():\n",
    "     print(\"You chose orange!\\r\\n\")\n",
    "def PrintYellow():\n",
    "     print(\"You chose yellow!\\r\\n\")\n"
   ]
  },
  {
   "cell_type": "code",
   "execution_count": null,
   "metadata": {},
   "outputs": [],
   "source": [
    "ColorSelect = {\n",
    " 0: PrintBlue,\n",
    " 1: PrintRed,\n",
    " 2: PrintOrange,\n",
    " 3: PrintYellow\n",
    "}"
   ]
  },
  {
   "cell_type": "code",
   "execution_count": null,
   "metadata": {},
   "outputs": [],
   "source": [
    "tryAgain = True\n",
    "Selection = 0\n",
    "while tryAgain:\n",
    "    try:\n",
    "        while (Selection != 4):\n",
    "            print(\"0. Blue\")\n",
    "            print(\"1. Red\")\n",
    "            print(\"2. Orange\")\n",
    "            print(\"3. Yellow\")\n",
    "            print(\"4. Quit\")\n",
    "            Selection = int(input(\"Select a color option: \"))\n",
    "    except ValueError:\n",
    "            print(\"voce deve escrever um numero\")\n",
    "            try:\n",
    "                reescrever = input(\"escrever outro numero? S/N \")\n",
    "            except:\n",
    "                print(\"ate mais!\")\n",
    "                tryAgain = False\n",
    "            else:\n",
    "                if (str.upper(reescrever) == \"N\"):\n",
    "                    print(\"Ate mais ver!!\")\n",
    "                    tryAgain = False\n",
    "    else:\n",
    "        if (Selection >= 0) and (Selection < 4):\n",
    "            ColorSelect[Selection]()\n",
    "        else:\n",
    "                tryAgain = False"
   ]
  },
  {
   "cell_type": "code",
   "execution_count": null,
   "metadata": {},
   "outputs": [],
   "source": [
    "TryAgain = True\n",
    "while TryAgain:\n",
    "    try:\n",
    "        value = int(input(\"type a whole number.\"))\n",
    "    except ValueError:\n",
    "        print(\"you must type a number!\")\n",
    "        try:\n",
    "            DoOver = input(\"try again (y/n)? \")\n",
    "        except:\n",
    "            print(\"ok, see you next time!\")\n",
    "            TryAgain = False\n",
    "        else:\n",
    "            if (str.upper(DoOver) == \"N\"):\n",
    "                print(\"bye bye\")\n",
    "                TryAgain = False\n",
    "    except KeyboardInterrupt:\n",
    "        print(\"you pressed ctrl + c!\")\n",
    "        print(\"see you next time !\")\n",
    "        TryAgain = False\n",
    "    else:\n",
    "        print(value)\n",
    "        TryAgain = False"
   ]
  },
  {
   "cell_type": "code",
   "execution_count": null,
   "metadata": {},
   "outputs": [],
   "source": [
    "Agg = True\n",
    "Selection = 0\n",
    "while Agg:\n",
    "    while (Selection != 4):\n",
    "        print(\"0. Blue\")\n",
    "        print(\"1. Red\")\n",
    "        print(\"2. Orange\")\n",
    "        print(\"3. Yellow\")\n",
    "        print(\"4. Quit\")\n",
    "        try:\n",
    "            Selection = int(input(\"Select a color option: \"))\n",
    "        except ValueError:\n",
    "            print(\"Voce deve escrever um numer!!\")\n",
    "            try:\n",
    "                refazerr = input(\"Deseja escrever um numer??? S/N \")\n",
    "            except:\n",
    "                print(\"Ate nunca mais!!\")\n",
    "                agg = False\n",
    "            else: \n",
    "                if (str.upper(refazerr)== \"N\"):\n",
    "                    print(\"VLW FLW!\")\n",
    "                    Agg= False\n",
    "                    break\n",
    "        else:            \n",
    "            if (Selection >= 0) and (Selection < 4):\n",
    "                ColorSelect[Selection]()\n",
    "                Agg= False"
   ]
  },
  {
   "cell_type": "code",
   "execution_count": null,
   "metadata": {},
   "outputs": [],
   "source": [
    "import queue\n",
    "MyQueue = queue.Queue(3)\n",
    "print(MyQueue.empty())\n",
    "input(\"Press any key when ready...\")\n",
    "MyQueue.put(1)\n",
    "MyQueue.put(2)\n",
    "print(MyQueue.full())\n",
    "input(\"Press any key when ready...\")\n",
    "MyQueue.put(3)\n",
    "print(MyQueue.full())\n",
    "input(\"Press any key when ready...\")\n",
    "print(MyQueue.get())\n",
    "print(MyQueue.empty())\n",
    "print(MyQueue.full())\n",
    "input(\"Press any key when ready...\")\n",
    "print(MyQueue.get())\n",
    "print(MyQueue.get())"
   ]
  },
  {
   "cell_type": "code",
   "execution_count": null,
   "metadata": {},
   "outputs": [],
   "source": [
    "#################################################################"
   ]
  },
  {
   "cell_type": "code",
   "execution_count": 1,
   "metadata": {},
   "outputs": [],
   "source": [
    "# Trabalhando Com Classe"
   ]
  },
  {
   "cell_type": "code",
   "execution_count": null,
   "metadata": {},
   "outputs": [],
   "source": [
    "##############################################################"
   ]
  },
  {
   "cell_type": "code",
   "execution_count": 2,
   "metadata": {},
   "outputs": [],
   "source": [
    "class MyClass:\n",
    "    myvar = 0"
   ]
  },
  {
   "cell_type": "code",
   "execution_count": 3,
   "metadata": {},
   "outputs": [],
   "source": [
    "myinstance = MyClass()"
   ]
  },
  {
   "cell_type": "code",
   "execution_count": 4,
   "metadata": {},
   "outputs": [
    {
     "data": {
      "text/plain": [
       "<__main__.MyClass at 0x20f6b1da518>"
      ]
     },
     "execution_count": 4,
     "metadata": {},
     "output_type": "execute_result"
    }
   ],
   "source": [
    "myinstance"
   ]
  },
  {
   "cell_type": "code",
   "execution_count": 5,
   "metadata": {},
   "outputs": [
    {
     "data": {
      "text/plain": [
       "0"
      ]
     },
     "execution_count": 5,
     "metadata": {},
     "output_type": "execute_result"
    }
   ],
   "source": [
    "myinstance.myvar"
   ]
  },
  {
   "cell_type": "code",
   "execution_count": 6,
   "metadata": {},
   "outputs": [
    {
     "data": {
      "text/plain": [
       "__main__.MyClass"
      ]
     },
     "execution_count": 6,
     "metadata": {},
     "output_type": "execute_result"
    }
   ],
   "source": [
    "myinstance.__class__"
   ]
  },
  {
   "cell_type": "code",
   "execution_count": 8,
   "metadata": {},
   "outputs": [
    {
     "name": "stdout",
     "output_type": "stream",
     "text": [
      "['__class__', '__delattr__', '__dict__', '__dir__', '__doc__', '__eq__', '__format__', '__ge__', '__getattribute__', '__gt__', '__hash__', '__init__', '__init_subclass__', '__le__', '__lt__', '__module__', '__ne__', '__new__', '__reduce__', '__reduce_ex__', '__repr__', '__setattr__', '__sizeof__', '__str__', '__subclasshook__', '__weakref__', 'myvar']\n"
     ]
    }
   ],
   "source": [
    "print(dir(myinstance))"
   ]
  },
  {
   "cell_type": "code",
   "execution_count": 9,
   "metadata": {},
   "outputs": [
    {
     "name": "stdout",
     "output_type": "stream",
     "text": [
      "Help on MyClass in module __main__ object:\n",
      "\n",
      "class MyClass(builtins.object)\n",
      " |  Data descriptors defined here:\n",
      " |  \n",
      " |  __dict__\n",
      " |      dictionary for instance variables (if defined)\n",
      " |  \n",
      " |  __weakref__\n",
      " |      list of weak references to the object (if defined)\n",
      " |  \n",
      " |  ----------------------------------------------------------------------\n",
      " |  Data and other attributes defined here:\n",
      " |  \n",
      " |  myvar = 0\n",
      "\n"
     ]
    }
   ],
   "source": [
    "help(myinstance)"
   ]
  },
  {
   "cell_type": "code",
   "execution_count": 14,
   "metadata": {},
   "outputs": [],
   "source": [
    "class MyClass:\n",
    "    def SayHallo(self):\n",
    "        print(\"Hello There!\")"
   ]
  },
  {
   "cell_type": "code",
   "execution_count": 21,
   "metadata": {},
   "outputs": [
    {
     "ename": "TypeError",
     "evalue": "SayHallo() missing 1 required positional argument: 'self'",
     "output_type": "error",
     "traceback": [
      "\u001b[1;31m---------------------------------------------------------------------------\u001b[0m",
      "\u001b[1;31mTypeError\u001b[0m                                 Traceback (most recent call last)",
      "\u001b[1;32m<ipython-input-21-7bf61ca94dbc>\u001b[0m in \u001b[0;36m<module>\u001b[1;34m()\u001b[0m\n\u001b[1;32m----> 1\u001b[1;33m \u001b[0mMyClass\u001b[0m\u001b[1;33m.\u001b[0m\u001b[0mSayHallo\u001b[0m\u001b[1;33m(\u001b[0m\u001b[1;33m)\u001b[0m\u001b[1;33m\u001b[0m\u001b[0m\n\u001b[0m",
      "\u001b[1;31mTypeError\u001b[0m: SayHallo() missing 1 required positional argument: 'self'"
     ]
    }
   ],
   "source": [
    "MyClass.SayHallo()"
   ]
  },
  {
   "cell_type": "code",
   "execution_count": 30,
   "metadata": {},
   "outputs": [
    {
     "ename": "NameError",
     "evalue": "name 'Name' is not defined",
     "output_type": "error",
     "traceback": [
      "\u001b[1;31m---------------------------------------------------------------------------\u001b[0m",
      "\u001b[1;31mNameError\u001b[0m                                 Traceback (most recent call last)",
      "\u001b[1;32m<ipython-input-30-72473860034d>\u001b[0m in \u001b[0;36m<module>\u001b[1;34m()\u001b[0m\n\u001b[1;32m----> 1\u001b[1;33m \u001b[0mmyinstance\u001b[0m \u001b[1;33m=\u001b[0m \u001b[0mMyClass\u001b[0m\u001b[1;33m(\u001b[0m\u001b[1;34m\"there\"\u001b[0m\u001b[1;33m)\u001b[0m\u001b[1;33m\u001b[0m\u001b[0m\n\u001b[0m",
      "\u001b[1;32m<ipython-input-22-6b7c5154d682>\u001b[0m in \u001b[0;36m__init__\u001b[1;34m(self, name)\u001b[0m\n\u001b[0;32m      2\u001b[0m     \u001b[0mGreeting\u001b[0m \u001b[1;33m=\u001b[0m \u001b[1;34m\"\"\u001b[0m\u001b[1;33m\u001b[0m\u001b[0m\n\u001b[0;32m      3\u001b[0m     \u001b[1;32mdef\u001b[0m \u001b[0m__init__\u001b[0m\u001b[1;33m(\u001b[0m\u001b[0mself\u001b[0m\u001b[1;33m,\u001b[0m \u001b[0mname\u001b[0m\u001b[1;33m=\u001b[0m\u001b[1;34m\"there\"\u001b[0m\u001b[1;33m)\u001b[0m\u001b[1;33m:\u001b[0m\u001b[1;33m\u001b[0m\u001b[0m\n\u001b[1;32m----> 4\u001b[1;33m         \u001b[0mselg\u001b[0m\u001b[1;33m.\u001b[0m\u001b[0mGreeting\u001b[0m \u001b[1;33m=\u001b[0m \u001b[0mName\u001b[0m \u001b[1;33m+\u001b[0m \u001b[1;34m\"!\"\u001b[0m\u001b[1;33m\u001b[0m\u001b[0m\n\u001b[0m\u001b[0;32m      5\u001b[0m     \u001b[1;32mdef\u001b[0m \u001b[0mSayHallo\u001b[0m\u001b[1;33m(\u001b[0m\u001b[0mself\u001b[0m\u001b[1;33m)\u001b[0m\u001b[1;33m:\u001b[0m\u001b[1;33m\u001b[0m\u001b[0m\n\u001b[0;32m      6\u001b[0m         \u001b[0mprint\u001b[0m\u001b[1;33m(\u001b[0m\u001b[1;34m\"Hello {0}\"\u001b[0m\u001b[1;33m.\u001b[0m\u001b[0mformat\u001b[0m\u001b[1;33m(\u001b[0m\u001b[0mself\u001b[0m\u001b[1;33m.\u001b[0m\u001b[0mGreeting\u001b[0m\u001b[1;33m)\u001b[0m\u001b[1;33m)\u001b[0m\u001b[1;33m\u001b[0m\u001b[0m\n",
      "\u001b[1;31mNameError\u001b[0m: name 'Name' is not defined"
     ]
    }
   ],
   "source": [
    "myinstance = MyClass(\"there\")"
   ]
  },
  {
   "cell_type": "code",
   "execution_count": 29,
   "metadata": {},
   "outputs": [
    {
     "name": "stdout",
     "output_type": "stream",
     "text": [
      "Hello There!\n"
     ]
    }
   ],
   "source": [
    "myinstance.SayHallo()"
   ]
  },
  {
   "cell_type": "code",
   "execution_count": 36,
   "metadata": {},
   "outputs": [],
   "source": [
    "class MyClass:\n",
    "    Greeting = \"\"\n",
    "    def __init__(self, name= \"there\"):\n",
    "        self.Greeting = name + \"!\"\n",
    "    def SayHallo(self):\n",
    "        print(\"Hello {0}\".format(self.Greeting))"
   ]
  },
  {
   "cell_type": "code",
   "execution_count": 37,
   "metadata": {},
   "outputs": [],
   "source": [
    "myinstance =  MyClass()"
   ]
  },
  {
   "cell_type": "code",
   "execution_count": 43,
   "metadata": {},
   "outputs": [
    {
     "name": "stdout",
     "output_type": "stream",
     "text": [
      "Hello Rod!\n"
     ]
    }
   ],
   "source": [
    "myinstance2 = MyClass(\"Rod\")\n",
    "myinstance2.SayHallo()"
   ]
  },
  {
   "cell_type": "code",
   "execution_count": 46,
   "metadata": {},
   "outputs": [
    {
     "name": "stdout",
     "output_type": "stream",
     "text": [
      "Hello rod\n"
     ]
    }
   ],
   "source": [
    "myinstance.Greeting =\"rod\"\n",
    "myinstance.SayHallo()"
   ]
  },
  {
   "cell_type": "code",
   "execution_count": 48,
   "metadata": {},
   "outputs": [],
   "source": [
    "class MyClass:\n",
    "    def DoAdd(self, Value1=0, Value2=0):\n",
    "        Sum = Value1 + Value2\n",
    "        print(\"The sum of {0} plus {1} is {2}.\"\n",
    "        .format(Value1, Value2, Sum))"
   ]
  },
  {
   "cell_type": "code",
   "execution_count": 49,
   "metadata": {},
   "outputs": [],
   "source": [
    "somaa = MyClass()"
   ]
  },
  {
   "cell_type": "code",
   "execution_count": 50,
   "metadata": {},
   "outputs": [
    {
     "name": "stdout",
     "output_type": "stream",
     "text": [
      "The sum of 5 plus 5 is 10.\n"
     ]
    }
   ],
   "source": [
    "somaa.DoAdd(5,5)"
   ]
  },
  {
   "cell_type": "code",
   "execution_count": 51,
   "metadata": {},
   "outputs": [
    {
     "data": {
      "text/plain": [
       "list"
      ]
     },
     "execution_count": 51,
     "metadata": {},
     "output_type": "execute_result"
    }
   ],
   "source": [
    "type([])"
   ]
  },
  {
   "cell_type": "code",
   "execution_count": 53,
   "metadata": {},
   "outputs": [
    {
     "name": "stderr",
     "output_type": "stream",
     "text": [
      "C:\\Users\\Roderick\\Anaconda3\\lib\\site-packages\\numpy\\_distributor_init.py:32: UserWarning: loaded more than 1 DLL from .libs:\n",
      "C:\\Users\\Roderick\\Anaconda3\\lib\\site-packages\\numpy\\.libs\\libopenblas.PYQHXLVVQ7VESDPUVUADXEVJOBGHJPAY.gfortran-win_amd64.dll\n",
      "C:\\Users\\Roderick\\Anaconda3\\lib\\site-packages\\numpy\\.libs\\libopenblas.QVLO2T66WEPI7JZ63PS3HMOHFEY472BC.gfortran-win_amd64.dll\n",
      "  stacklevel=1)\n"
     ]
    }
   ],
   "source": [
    "import pandas as pd"
   ]
  },
  {
   "cell_type": "code",
   "execution_count": 56,
   "metadata": {},
   "outputs": [],
   "source": [
    "dframe = pd.DataFrame"
   ]
  },
  {
   "cell_type": "code",
   "execution_count": 75,
   "metadata": {},
   "outputs": [
    {
     "data": {
      "text/plain": [
       "[['A', 'B', 'C'], [1, 2, 3]]"
      ]
     },
     "execution_count": 75,
     "metadata": {},
     "output_type": "execute_result"
    }
   ],
   "source": [
    "dframe = [[\"A\",\"B\",\"C\"],[1,2,3]]\n",
    "dframe"
   ]
  },
  {
   "cell_type": "code",
   "execution_count": 78,
   "metadata": {},
   "outputs": [
    {
     "data": {
      "text/plain": [
       "[['A', 'B', 'C'], [1, 2, 3]]"
      ]
     },
     "execution_count": 78,
     "metadata": {},
     "output_type": "execute_result"
    }
   ],
   "source": [
    "dframe[:2]"
   ]
  },
  {
   "cell_type": "code",
   "execution_count": 71,
   "metadata": {},
   "outputs": [
    {
     "name": "stdout",
     "output_type": "stream",
     "text": [
      "A\n"
     ]
    }
   ],
   "source": [
    "print(dframe[0])"
   ]
  },
  {
   "cell_type": "code",
   "execution_count": 62,
   "metadata": {},
   "outputs": [],
   "source": [
    "class ControleRemoto:\n",
    "    def __init__(self, cor, altura, largura, profundidade):\n",
    "        self.cor = cor\n",
    "        self.altura = altura\n",
    "        self.largura = largura\n",
    "        self.profundidade = profundidade\n"
   ]
  },
  {
   "cell_type": "code",
   "execution_count": 63,
   "metadata": {},
   "outputs": [],
   "source": [
    "c1 = ControleRemoto(\"preto\", \"15\", \"3\", \"1\")"
   ]
  },
  {
   "cell_type": "code",
   "execution_count": 65,
   "metadata": {},
   "outputs": [
    {
     "data": {
      "text/plain": [
       "'preto'"
      ]
     },
     "execution_count": 65,
     "metadata": {},
     "output_type": "execute_result"
    }
   ],
   "source": [
    "c1.cor"
   ]
  },
  {
   "cell_type": "code",
   "execution_count": 2,
   "metadata": {},
   "outputs": [
    {
     "name": "stdout",
     "output_type": "stream",
     "text": [
      "Red Green Blue  + Yellow Purple Cyan  = Red Green Blue Yellow Purple Cyan \n"
     ]
    }
   ],
   "source": [
    "class MyClass:\n",
    "    def __init__(self, *args):\n",
    "        self.Input = args\n",
    "    def __add__(self, Other):\n",
    "        Output = MyClass() \n",
    "        Output.Input = self.Input + Other.Input\n",
    "        return Output\n",
    "    def __str__(self):\n",
    "        Output = \"\"\n",
    "        for Item in self.Input:\n",
    "            Output += Item\n",
    "            Output += \" \"\n",
    "        return Output\n",
    "Value1 = MyClass(\"Red\", \"Green\", \"Blue\")\n",
    "Value2 = MyClass(\"Yellow\", \"Purple\", \"Cyan\")\n",
    "Value3 = Value1 + Value2\n",
    "print(\"{0} + {1} = {2}\"\n",
    " .format(Value1, Value2, Value3))"
   ]
  },
  {
   "cell_type": "code",
   "execution_count": 23,
   "metadata": {},
   "outputs": [],
   "source": [
    "class MyClass:\n",
    "    def __init__(self, Name=\"Sam\",Age=32):\n",
    "        self.Name = Name\n",
    "        self.Age = Age\n",
    "    def GetName(self):\n",
    "        return self.Name\n",
    "    def SetName(self, Name):\n",
    "        self.Name = Name\n",
    "    def GetAge(self):\n",
    "        return self.Age\n",
    "    def SetAge(self, Age):\n",
    "        self.Age = Age\n",
    "    def __str__(self):\n",
    "        return \"{0} is aged {1}.\".format(self.Name,self.Age)"
   ]
  },
  {
   "cell_type": "code",
   "execution_count": 24,
   "metadata": {},
   "outputs": [],
   "source": [
    "d = MyClass()"
   ]
  },
  {
   "cell_type": "code",
   "execution_count": 27,
   "metadata": {},
   "outputs": [],
   "source": [
    "d = MyClass(\"Rod\",35)"
   ]
  },
  {
   "cell_type": "code",
   "execution_count": 28,
   "metadata": {},
   "outputs": [
    {
     "data": {
      "text/plain": [
       "'Rod'"
      ]
     },
     "execution_count": 28,
     "metadata": {},
     "output_type": "execute_result"
    }
   ],
   "source": [
    "d.GetName()"
   ]
  },
  {
   "cell_type": "code",
   "execution_count": 29,
   "metadata": {},
   "outputs": [],
   "source": [
    "d.SetAge(25)"
   ]
  },
  {
   "cell_type": "code",
   "execution_count": 30,
   "metadata": {},
   "outputs": [
    {
     "data": {
      "text/plain": [
       "25"
      ]
     },
     "execution_count": 30,
     "metadata": {},
     "output_type": "execute_result"
    }
   ],
   "source": [
    "d.GetAge()"
   ]
  },
  {
   "cell_type": "code",
   "execution_count": 34,
   "metadata": {},
   "outputs": [
    {
     "data": {
      "text/plain": [
       "__main__.MyClass"
      ]
     },
     "execution_count": 34,
     "metadata": {},
     "output_type": "execute_result"
    }
   ],
   "source": [
    "type(d)"
   ]
  },
  {
   "cell_type": "code",
   "execution_count": 35,
   "metadata": {},
   "outputs": [
    {
     "name": "stdout",
     "output_type": "stream",
     "text": [
      "Rod is aged 25.\n"
     ]
    }
   ],
   "source": [
    "print(d)"
   ]
  },
  {
   "cell_type": "code",
   "execution_count": 176,
   "metadata": {},
   "outputs": [],
   "source": [
    "class Animal:\n",
    "    def __init__(self, Name=\"\",Age = 0, Type = \"\"):\n",
    "        self.Name = Name\n",
    "        self.Age = Age\n",
    "        self.Type = Type\n",
    "    def GetName(self):\n",
    "        return self.Name\n",
    "    def SetName(self, Name):\n",
    "        self.Name = Name\n",
    "    def GetAge(self):\n",
    "        return self.Age\n",
    "    def SetAge(self, Age):\n",
    "        self.Age = Age\n",
    "    def GetType(self):\n",
    "        return self.Type\n",
    "    def SetType(self, Type):\n",
    "        self.Type = Type\n",
    "    def __str__(self):\n",
    "        return \"{0} is a {1} ages {2}\".format(self.Name,\n",
    "                                              self.Type,\n",
    "                                              self.Age)\n",
    "\n",
    "class Chicken(Animal):\n",
    "    def __init__(self, Name = \"\", Age = 0):\n",
    "        self.Name = Name\n",
    "        self.Age = Age\n",
    "        self.Type = \"Chicken\"\n",
    "    def SetType (self, Type):\n",
    "        print(\"Sorry,{0} will alway be a {1}\".format(self.Name, \n",
    "                                                     self.Type))\n",
    "    def MakeSound(self):\n",
    "        print(\"{0} says Cluck, Cluck, Cluck!\".format(self.Name))"
   ]
  },
  {
   "cell_type": "code",
   "execution_count": null,
   "metadata": {},
   "outputs": [],
   "source": []
  },
  {
   "cell_type": "code",
   "execution_count": 177,
   "metadata": {},
   "outputs": [],
   "source": [
    "ani= Animal(\"Vaca\", 10,\"mamifero\")"
   ]
  },
  {
   "cell_type": "code",
   "execution_count": 178,
   "metadata": {},
   "outputs": [
    {
     "data": {
      "text/plain": [
       "10"
      ]
     },
     "execution_count": 178,
     "metadata": {},
     "output_type": "execute_result"
    }
   ],
   "source": [
    "ani.Age"
   ]
  },
  {
   "cell_type": "code",
   "execution_count": 179,
   "metadata": {},
   "outputs": [
    {
     "data": {
      "text/plain": [
       "'Vaca'"
      ]
     },
     "execution_count": 179,
     "metadata": {},
     "output_type": "execute_result"
    }
   ],
   "source": [
    "ani.Name"
   ]
  },
  {
   "cell_type": "code",
   "execution_count": 180,
   "metadata": {},
   "outputs": [
    {
     "data": {
      "text/plain": [
       "'mamifero'"
      ]
     },
     "execution_count": 180,
     "metadata": {},
     "output_type": "execute_result"
    }
   ],
   "source": [
    "ani.Type"
   ]
  },
  {
   "cell_type": "code",
   "execution_count": 181,
   "metadata": {},
   "outputs": [
    {
     "name": "stdout",
     "output_type": "stream",
     "text": [
      "Vaca is a mamifero ages 10\n"
     ]
    }
   ],
   "source": [
    "print(ani)"
   ]
  },
  {
   "cell_type": "code",
   "execution_count": 182,
   "metadata": {},
   "outputs": [],
   "source": [
    "duck = ani"
   ]
  },
  {
   "cell_type": "code",
   "execution_count": 183,
   "metadata": {},
   "outputs": [
    {
     "name": "stdout",
     "output_type": "stream",
     "text": [
      "Vaca is a mamifero ages 10\n"
     ]
    }
   ],
   "source": [
    "print(duck)"
   ]
  },
  {
   "cell_type": "code",
   "execution_count": 184,
   "metadata": {},
   "outputs": [],
   "source": [
    "duck.SetAge(duck.GetAge()+1)"
   ]
  },
  {
   "cell_type": "code",
   "execution_count": 185,
   "metadata": {},
   "outputs": [
    {
     "data": {
      "text/plain": [
       "11"
      ]
     },
     "execution_count": 185,
     "metadata": {},
     "output_type": "execute_result"
    }
   ],
   "source": [
    "duck.GetAge()"
   ]
  },
  {
   "cell_type": "code",
   "execution_count": 186,
   "metadata": {},
   "outputs": [],
   "source": [
    "duck = Chicken(\"donalds\", 66)"
   ]
  },
  {
   "cell_type": "code",
   "execution_count": 187,
   "metadata": {},
   "outputs": [
    {
     "name": "stdout",
     "output_type": "stream",
     "text": [
      "donalds is a Chicken ages 66\n"
     ]
    }
   ],
   "source": [
    "print(duck)"
   ]
  },
  {
   "cell_type": "code",
   "execution_count": 188,
   "metadata": {},
   "outputs": [
    {
     "data": {
      "text/plain": [
       "'Chicken'"
      ]
     },
     "execution_count": 188,
     "metadata": {},
     "output_type": "execute_result"
    }
   ],
   "source": [
    "duck.GetType()"
   ]
  },
  {
   "cell_type": "code",
   "execution_count": 189,
   "metadata": {},
   "outputs": [
    {
     "name": "stdout",
     "output_type": "stream",
     "text": [
      "Sorry,donalds will alway be a Chicken\n"
     ]
    }
   ],
   "source": [
    "duck.SetType(\"duck\")"
   ]
  },
  {
   "cell_type": "code",
   "execution_count": 190,
   "metadata": {},
   "outputs": [
    {
     "name": "stdout",
     "output_type": "stream",
     "text": [
      "donalds says Cluck, Cluck, Cluck!\n"
     ]
    }
   ],
   "source": [
    "duck.MakeSound()"
   ]
  },
  {
   "cell_type": "code",
   "execution_count": 1,
   "metadata": {},
   "outputs": [],
   "source": [
    "import csv"
   ]
  },
  {
   "cell_type": "code",
   "execution_count": 28,
   "metadata": {},
   "outputs": [],
   "source": [
    "class FormatData2:\n",
    "    def __init__(self, Name = \"\",Age = 0, Married = False):\n",
    "        self.Name = Name\n",
    "        self.Age = Age\n",
    "        self.Married = Married\n",
    "        \n",
    "    def __str__(self):\n",
    "        OutString = \"'{0}', {1}, {2}\".format(\n",
    "            self.Name,\n",
    "            self.Age,\n",
    "            self.Married)\n",
    "        return OutString\n",
    "    \n",
    "    def SaveData(Filename = \"\", Datalist= []):\n",
    "        with open(Filename, \n",
    "                  \"w\",newline = '\\n') as csvfile:\n",
    "            DataWriter = csv.writer(\n",
    "                csvfile,\n",
    "                delimiter= '\\n',\n",
    "                quotechar =\" \",\n",
    "                quoting = csv.QUOTE_NONNUMERIC)\n",
    "            DataWriter.writerow(Datalist)\n",
    "            csvfile.close()\n",
    "            print(\"Data Saved!\")\n",
    "        \n",
    "    def ReadData(Filename = \"\"):\n",
    "         with open(Filename,\n",
    "             \"r\", newline='\\n') as csvfile:\n",
    "            DataReader = csv.reader(\n",
    "                csvfile,\n",
    "                delimiter=\"\\n\",\n",
    "                quotechar=\" \",\n",
    "                quoting=csv.QUOTE_NONNUMERIC)\n",
    "            Output = []\n",
    "            for Item in DataReader:\n",
    "                Output.append(Item[0])\n",
    "            csvfile.close()\n",
    "            print(\"Data read!\")\n",
    "            return Output"
   ]
  },
  {
   "cell_type": "code",
   "execution_count": 26,
   "metadata": {},
   "outputs": [],
   "source": [
    "teste = FormatData2(\"rodrigo\" , 33)\n",
    "teste01 = [FormatData2(\"Abrao\", 11, True),\n",
    "          FormatData2(\"beto\", 22, True),\n",
    "          FormatData2(\"Caio\", 33, False)]"
   ]
  },
  {
   "cell_type": "code",
   "execution_count": 18,
   "metadata": {},
   "outputs": [
    {
     "name": "stdout",
     "output_type": "stream",
     "text": [
      "[<__main__.FormatData2 object at 0x000002058324E0B8>, <__main__.FormatData2 object at 0x000002058324E128>, <__main__.FormatData2 object at 0x000002058324E160>]\n"
     ]
    }
   ],
   "source": [
    "print(teste01)"
   ]
  },
  {
   "cell_type": "code",
   "execution_count": 19,
   "metadata": {},
   "outputs": [
    {
     "data": {
      "text/plain": [
       "str"
      ]
     },
     "execution_count": 19,
     "metadata": {},
     "output_type": "execute_result"
    }
   ],
   "source": [
    "type(teste.Name)"
   ]
  },
  {
   "cell_type": "code",
   "execution_count": 20,
   "metadata": {},
   "outputs": [
    {
     "data": {
      "text/plain": [
       "'rodrigo'"
      ]
     },
     "execution_count": 20,
     "metadata": {},
     "output_type": "execute_result"
    }
   ],
   "source": [
    "teste.Name"
   ]
  },
  {
   "cell_type": "code",
   "execution_count": 24,
   "metadata": {},
   "outputs": [
    {
     "name": "stdout",
     "output_type": "stream",
     "text": [
      "Data Saved!\n"
     ]
    }
   ],
   "source": [
    "FormatData2.SaveData(\"t2.csv\", teste01)"
   ]
  },
  {
   "cell_type": "code",
   "execution_count": 8,
   "metadata": {},
   "outputs": [
    {
     "name": "stdout",
     "output_type": "stream",
     "text": [
      "[<__main__.FormatData2 object at 0x00000205831B87F0>]\n",
      "[<__main__.FormatData2 object at 0x00000205831B8C88>]\n",
      "[<__main__.FormatData2 object at 0x00000205831B8E80>]\n"
     ]
    }
   ],
   "source": [
    "for x in teste01:\n",
    "    print([x])"
   ]
  },
  {
   "cell_type": "code",
   "execution_count": 30,
   "metadata": {},
   "outputs": [
    {
     "name": "stdout",
     "output_type": "stream",
     "text": [
      "Data read!\n"
     ]
    }
   ],
   "source": [
    "newteste01 = FormatData2.ReadData(\"t2.csv\")"
   ]
  },
  {
   "cell_type": "code",
   "execution_count": 32,
   "metadata": {},
   "outputs": [
    {
     "data": {
      "text/plain": [
       "[\"'Abrao', 11, True\", \"'beto', 22, True\", \"'Caio', 33, False\"]"
      ]
     },
     "execution_count": 32,
     "metadata": {},
     "output_type": "execute_result"
    }
   ],
   "source": [
    "newteste01"
   ]
  },
  {
   "cell_type": "code",
   "execution_count": 45,
   "metadata": {},
   "outputs": [
    {
     "data": {
      "text/plain": [
       "[\"'Caio', 33, False\", \"'beto', 22, True\", \"'Abrao', 11, True\"]"
      ]
     },
     "execution_count": 45,
     "metadata": {},
     "output_type": "execute_result"
    }
   ],
   "source": [
    "newteste01[::-1]"
   ]
  },
  {
   "cell_type": "code",
   "execution_count": 46,
   "metadata": {},
   "outputs": [
    {
     "name": "stdout",
     "output_type": "stream",
     "text": [
      "[\"'Abrao', 11, True\"]\n",
      "[\"'beto', 22, True\"]\n",
      "[\"'Caio', 33, False\"]\n"
     ]
    }
   ],
   "source": [
    "for x in newteste01:\n",
    "    print([x])"
   ]
  },
  {
   "cell_type": "code",
   "execution_count": null,
   "metadata": {},
   "outputs": [],
   "source": [
    "#Aprendendo Lambda"
   ]
  },
  {
   "cell_type": "code",
   "execution_count": 60,
   "metadata": {},
   "outputs": [
    {
     "name": "stdout",
     "output_type": "stream",
     "text": [
      "odd\n",
      "odd\n",
      "odd\n",
      "odd\n",
      "odd\n",
      "odd\n"
     ]
    }
   ],
   "source": [
    "l = [2,4,7,3,14,19]\n",
    "for i in l:\n",
    "    if (lambda i : i%2) != 0:\n",
    "        print(\"odd\")\n",
    "    else:\n",
    "        print(\"even\")"
   ]
  },
  {
   "cell_type": "code",
   "execution_count": 53,
   "metadata": {},
   "outputs": [],
   "source": [
    "div = lambda x : x%2"
   ]
  },
  {
   "cell_type": "code",
   "execution_count": 57,
   "metadata": {},
   "outputs": [
    {
     "data": {
      "text/plain": [
       "1"
      ]
     },
     "execution_count": 57,
     "metadata": {},
     "output_type": "execute_result"
    }
   ],
   "source": [
    "div(5)"
   ]
  },
  {
   "cell_type": "code",
   "execution_count": 63,
   "metadata": {},
   "outputs": [
    {
     "name": "stdout",
     "output_type": "stream",
     "text": [
      "par\n",
      "par\n",
      "impar\n",
      "impar\n",
      "par\n",
      "impar\n"
     ]
    }
   ],
   "source": [
    "l = [2,4,7,3,14,19]\n",
    "for i in l:\n",
    "    if div(i) == 0:\n",
    "        print(\"par\")\n",
    "    else: \n",
    "        print(\"impar\")"
   ]
  },
  {
   "cell_type": "code",
   "execution_count": 66,
   "metadata": {},
   "outputs": [
    {
     "name": "stdout",
     "output_type": "stream",
     "text": [
      "par\n",
      "par\n",
      "impar\n",
      "impar\n",
      "par\n",
      "impar\n"
     ]
    }
   ],
   "source": [
    "l = [2,4,7,3,14,19]\n",
    "for i in l:\n",
    "    div2 = lambda i: i%2\n",
    "    if div2(i) == 0:\n",
    "        print(\"par\")\n",
    "    else: \n",
    "        print(\"impar\")"
   ]
  },
  {
   "cell_type": "code",
   "execution_count": null,
   "metadata": {},
   "outputs": [],
   "source": []
  }
 ],
 "metadata": {
  "kernelspec": {
   "display_name": "Python 3",
   "language": "python",
   "name": "python3"
  },
  "language_info": {
   "codemirror_mode": {
    "name": "ipython",
    "version": 3
   },
   "file_extension": ".py",
   "mimetype": "text/x-python",
   "name": "python",
   "nbconvert_exporter": "python",
   "pygments_lexer": "ipython3",
   "version": "3.6.5"
  }
 },
 "nbformat": 4,
 "nbformat_minor": 2
}
